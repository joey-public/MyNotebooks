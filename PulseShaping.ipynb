{
 "cells": [
  {
   "cell_type": "markdown",
   "id": "4c278420-2f3e-4d66-9e72-f690d5316e40",
   "metadata": {},
   "source": [
    "# Pulse Shaping \n",
    "\n",
    "The goal of this notebook is to mess around with some common pulse shaping techniques. I want to simulate and compare the following pulse-shaping/windowing options.\n",
    "\n",
    "1. Rectangular \n",
    "2. Gaussian \n",
    "3. Sinc \n",
    "4. Hanning Window\n",
    "5. Raised Cosine"
   ]
  },
  {
   "cell_type": "code",
   "execution_count": 1,
   "id": "f29df88c-7ee2-412f-8717-3e5502ceb42c",
   "metadata": {},
   "outputs": [],
   "source": [
    "import numpy as np\n",
    "import matplotlib.pyplot as plt"
   ]
  },
  {
   "cell_type": "markdown",
   "id": "2b1865fa-41ad-4201-be1c-c170fba77392",
   "metadata": {},
   "source": [
    "## Step 1: Generate Data Symbols\n",
    "\n",
    "The input into a pulse shaping filter is often a set of data symbols. The symbols are simply a set of numbers where each number represents one symbol. It is very common to use complex symbols to simulate IQ based communications systems. A set of symbols can be mathametically describes as:\n",
    "\n",
    "$$\n",
    "s_i = \\{s_1, s_2, ..., s_{K-1}\\}\n",
    "$$\n",
    "\n",
    "where each $s_i$ is a complex number denotes as $s_i = s_{Ii} + js_{Qi}$. The set of all $K$ symbols is reffered to as the symbol alphabet. \n",
    "\n",
    "If you are tranmitting complex IQ symbols then for a set of $K$ symbols, each symbol ${s_i}$ carries $2*log_2\\left({K}\\right)$. \n",
    "\n",
    "In the case of nulling the Q/imaginary component of the symbols (see BPSK for example) each symbol tranmits $log_2\\left({k}\\right)$ bits, or half as much as if both components are utalized. \n",
    "\n",
    "The code below is an easy way to generate random symbols from an arbitrary alphabet. It utalized the `np.random.choice()` function. "
   ]
  },
  {
   "cell_type": "code",
   "execution_count": 9,
   "id": "5b267237-a2f0-4061-9083-e47f24cb7f3a",
   "metadata": {},
   "outputs": [],
   "source": [
    "n_symbols = 8\n",
    "symbol_alphabet = np.array([-1, 1])\n",
    "data_symbols = np.random.choice(symbol_alphabet, n_symbols) "
   ]
  },
  {
   "cell_type": "markdown",
   "id": "5c2b0e58-0eec-434f-841e-08f039065be5",
   "metadata": {},
   "source": [
    "# Step 2: Generate A Pulse Waveform"
   ]
  },
  {
   "cell_type": "code",
   "execution_count": 74,
   "id": "86edea2b-4eb0-4def-8baf-29646048e7ec",
   "metadata": {},
   "outputs": [],
   "source": [
    "\n",
    "\n",
    "\n",
    "\n",
    "# beta = rolloff factor\n",
    "# span = number of symbol periods\n",
    "# sps = number of samples per symbol\n",
    "\n"
   ]
  },
  {
   "cell_type": "code",
   "execution_count": 94,
   "id": "480b1006-f9e4-4f98-8202-2e745e7566dc",
   "metadata": {},
   "outputs": [],
   "source": [
    "def pulse_shape(data_symbols:np.array, pulse_signal:np.array, flatten=False)->np.array:\n",
    "    \"\"\" Generate pulse shaped data array.\n",
    "       \n",
    "        Positional Arguments:\n",
    "            data_symbols: set of data symbols to be shaped.\n",
    "            pulse_signal: The pulse waveform that does the shaping.\n",
    "            flatten: T/F, if true then the returned data will be a row vector with shape (1, n_sym*sps).\n",
    "                          if false then the returned data will be a matrix where each row is a pulse-shaped symbol. dim -> (n_sym, sps)\n",
    "            \n",
    "    \"\"\"\n",
    "    n_sym = len(data_symbols)\n",
    "    sps = len(pulse_signal)\n",
    "    data = np.multiply(data_symbols.reshape(n_sym, 1), pulse_signal.reshape(1, sps))\n",
    "    if flatten:\n",
    "        return data.reshape(1, int(n_sym*sps))\n",
    "    else:\n",
    "        return data "
   ]
  },
  {
   "cell_type": "markdown",
   "id": "752f3831-e996-41d0-83fb-94d8d445fd91",
   "metadata": {},
   "source": [
    "## Rect Pulse Shaping"
   ]
  },
  {
   "cell_type": "code",
   "execution_count": 95,
   "id": "d5410bfe-baf5-4847-879e-5cda0c224281",
   "metadata": {},
   "outputs": [],
   "source": [
    "def pulse_rect(span, sps):\n",
    "    N = span*sps\n",
    "    return np.ones(N)"
   ]
  },
  {
   "cell_type": "markdown",
   "id": "25fefb3a-5550-47ac-8dd5-ba1b1c0de67d",
   "metadata": {},
   "source": [
    "## Sinc Pulse Shaping"
   ]
  },
  {
   "cell_type": "code",
   "execution_count": 96,
   "id": "a880547d-6863-4b9d-afe5-d9144ca33130",
   "metadata": {},
   "outputs": [],
   "source": [
    "def pulse_sinc(span, sps, t_sym):\n",
    "    N = span*sps\n",
    "    T = t_sym\n",
    "    t = (t_sym/sps)*np.arange(-N/2, N/2+1)\n",
    "    return np.sinc(t)"
   ]
  },
  {
   "cell_type": "markdown",
   "id": "3aebdc31-e90f-4019-bd5f-8b1a91e4f04b",
   "metadata": {},
   "source": [
    "## Guassian Pulse Shaping"
   ]
  },
  {
   "cell_type": "code",
   "execution_count": 97,
   "id": "86a57b06-a4f1-4949-b220-217ca6c30990",
   "metadata": {},
   "outputs": [],
   "source": [
    "def pulse_guass(span, sps, t_sym, alpha):\n",
    "    N = span*sps\n",
    "    t = (t_sym/sps)*np.arange(-N/2, N/2+1)\n",
    "    return np.sqrt(alpha/np.pi) * np.exp(-1*alpha*np.power(t,2))"
   ]
  },
  {
   "cell_type": "markdown",
   "id": "1a4b1c25-5a32-41bf-a107-8434ad3786a1",
   "metadata": {},
   "source": [
    "## Raised Cosine Pulse Shaping"
   ]
  },
  {
   "cell_type": "code",
   "execution_count": 98,
   "id": "a360dc9c-f1b8-40fc-8a96-6f237f2b4772",
   "metadata": {},
   "outputs": [],
   "source": [
    "def pulse_rcos(span, sps, beta, shape='sqrt'):\n",
    "    N = span*sps #number of samples in the filter\n",
    "    T = 1 #assumed symbol period of 1\n",
    "    t = (1/sps)*np.arange(-N/2, N/2+1)\n",
    "    if beta==0:\n",
    "        h = np.sinc(t)\n",
    "        if (shape=='sqrt'): h = np.sqrt(h)\n",
    "        return h\n",
    "    numerator = np.cos(np.pi*beta*t)*np.sinc(t)\n",
    "    denominator = 1-np.power(2*beta*t,2) \n",
    "    h = numerator/denominator\n",
    "    h[len(h)//2]=1\n",
    "    for i,val in enumerate(t):\n",
    "        if np.absolute(val) == 1/(2*beta):\n",
    "            h[i] = (np.pi/4) * np.sinc(1/(2*beta)) \n",
    "    if (shape=='sqrt'): h = np.sqrt(np.absolute(h))\n",
    "    return h"
   ]
  },
  {
   "cell_type": "code",
   "execution_count": 99,
   "id": "eeae2374-df9d-49b7-a234-1cdfe69ff867",
   "metadata": {},
   "outputs": [],
   "source": [
    "#span = 8 \n",
    "#sps = 64 \n",
    "#plt.figure(1)\n",
    "#for beta in [0,0.25,0.5,1]:\n",
    "#    plt.subplot(121)   \n",
    "#    h = pulse_rcos(beta, span, sps, 'none')\n",
    "#    plt.plot(h, label = 'beta = {}'.format(beta))\n",
    "#    plt.subplot(122)\n",
    "#    h = pulse_rcos(beta, span, sps, 'sqrt')\n",
    "#    plt.plot(h, label = 'beta = {}'.format(beta))\n",
    "#plt.subplot(121)\n",
    "#plt.title('Raised Cosine Pulse')\n",
    "#plt.xlabel('Samples')\n",
    "#plt.ylabel('Amplitude')\n",
    "#plt.legend()\n",
    "#plt.subplot(122)\n",
    "#plt.title('Root-Raised Cosine Pulse')\n",
    "#plt.xlabel('Samples')\n",
    "#plt.ylabel('Amplitude')\n",
    "#plt.legend()\n",
    "#plt.tight_layout()"
   ]
  },
  {
   "cell_type": "markdown",
   "id": "b28282cc-729c-4238-ac9b-908aa2403a67",
   "metadata": {},
   "source": [
    "## Pulse Shaping Effect On Frequency Response"
   ]
  },
  {
   "cell_type": "markdown",
   "id": "897c99b1-db9c-43df-b0b2-00eec32c1dc5",
   "metadata": {},
   "source": [
    "## Final Compairison "
   ]
  },
  {
   "cell_type": "code",
   "execution_count": 93,
   "id": "0afe0f36-cc65-484d-b3e7-6dd025b1f355",
   "metadata": {},
   "outputs": [
    {
     "data": {
      "text/plain": [
       "[<matplotlib.lines.Line2D at 0x7fd4aa9ac730>]"
      ]
     },
     "execution_count": 93,
     "metadata": {},
     "output_type": "execute_result"
    },
    {
     "data": {
      "image/png": "[encoded data removed]",
      "text/plain": [
       "<Figure size 640x480 with 1 Axes>"
      ]
     },
     "metadata": {},
     "output_type": "display_data"
    }
   ],
   "source": [
    "bpsk_alphabet = np.array([1, -1])\n",
    "qpsk_alphabet = np.array([1+1j, 1-1j, -1+1j, -1-1j])\n",
    "symbol_alphabet = bpsk_alphabet\n",
    "n_symbols = 1\n",
    "data_symbols = np.random.choice(symbol_alphabet, n_symbols)\n",
    "#generate a pulse\n",
    "T_sym = 1 #seconds\n",
    "span = 4 #number of symbol periods the pulse spans\n",
    "sps = 20 #number of samples per symbol\n",
    "pulse_samples = pulse_guass(span, sps, T_sym, 1)\n",
    "\n",
    "data = pulse_shape(data_symbols, pulse_samples, False)\n",
    "plt.plot(np.abs(data.reshape(data.size,)))"
   ]
  },
  {
   "cell_type": "code",
   "execution_count": null,
   "id": "af9345db-a12c-4122-8560-9263a5782e10",
   "metadata": {},
   "outputs": [],
   "source": []
  },
  {
   "cell_type": "code",
   "execution_count": null,
   "id": "6586eabe-e861-495f-98d3-dc4ecb5392a7",
   "metadata": {},
   "outputs": [],
   "source": []
  },
  {
   "cell_type": "code",
   "execution_count": null,
   "id": "beb13a58-e761-4bb7-b5f7-c77e6a066543",
   "metadata": {},
   "outputs": [],
   "source": []
  }
 ],
 "metadata": {
  "kernelspec": {
   "display_name": "Python 3 (ipykernel)",
   "language": "python",
   "name": "python3"
  },
  "language_info": {
   "codemirror_mode": {
    "name": "ipython",
    "version": 3
   },
   "file_extension": ".py",
   "mimetype": "text/x-python",
   "name": "python",
   "nbconvert_exporter": "python",
   "pygments_lexer": "ipython3",
   "version": "3.8.10"
  }
 },
 "nbformat": 4,
 "nbformat_minor": 5
}
