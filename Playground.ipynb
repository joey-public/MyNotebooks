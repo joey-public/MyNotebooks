{
 "cells": [
  {
   "cell_type": "code",
   "execution_count": 16,
   "id": "433f3f89-8b7b-48c3-8687-1c58b6c89ac2",
   "metadata": {},
   "outputs": [
    {
     "name": "stdout",
     "output_type": "stream",
     "text": [
      "[0.1 0.2 0.3 0.4 0.5 0.6 0.7 0.8 0.9]\n"
     ]
    },
    {
     "data": {
      "text/plain": [
       "<StemContainer object of 3 artists>"
      ]
     },
     "execution_count": 16,
     "metadata": {},
     "output_type": "execute_result"
    },
    {
     "data": {
      "image/png": "[encoded data removed]",
      "text/plain": [
       "<Figure size 640x480 with 1 Axes>"
      ]
     },
     "metadata": {},
     "output_type": "display_data"
    }
   ],
   "source": [
    "#Example 2.1.1\n",
    "import numpy as np\n",
    "import matplotlib.pyplot as plt\n",
    "\n",
    "p = np.linspace(0.1, 0.9, 9)\n",
    "print(p)\n",
    "\n",
    "a = p*np.log2(p)\n",
    "b = (1-p)*np.log2(1-p)\n",
    "Hx = -(a+b)\n",
    "plt.stem(p, Hx)"
   ]
  },
  {
   "cell_type": "code",
   "execution_count": 31,
   "id": "1107e209-a4b3-4ef4-8da4-81a2747c929b",
   "metadata": {},
   "outputs": [
    {
     "name": "stdout",
     "output_type": "stream",
     "text": [
      "1.75\n",
      "1.75\n"
     ]
    }
   ],
   "source": [
    "#Example 2.1.2\n",
    "from scipy.stats import entropy\n",
    "base = 2\n",
    "pk = np.array([0.5, 0.25, 0.125, 0.125])\n",
    "H = -1*np.sum(pk*np.log2(pk))\n",
    "\n",
    "print(H)\n",
    "print(entropy(pk, base=2))"
   ]
  },
  {
   "cell_type": "code",
   "execution_count": 53,
   "id": "ad0862e4-cb46-4a25-a53c-27dee36e3171",
   "metadata": {},
   "outputs": [
    {
     "name": "stdout",
     "output_type": "stream",
     "text": [
      "[0.5   0.25  0.125 0.125]\n",
      "[0.25 0.25 0.25 0.25]\n"
     ]
    }
   ],
   "source": [
    "pxy = np.array([[1/8 , 1/16 , 1/32, 1/32], \n",
    "                [1/16, 1/8 , 1/32, 1/32], \n",
    "                [1/16, 1/16, 1/16, 1/16], \n",
    "                [1/4 , 0   , 0   , 0]])\n",
    "\n",
    "print(np.sum(pxy, axis=0))\n",
    "print(np.sum(pxy, axis=1))"
   ]
  },
  {
   "cell_type": "code",
   "execution_count": 57,
   "id": "313f2e82-7355-4d03-ad74-f57dfde58280",
   "metadata": {},
   "outputs": [],
   "source": [
    "def get_nth_col(mat:np.ndarray, n:int)->np.array:\n",
    "    return mat[:,n]\n",
    "def get_nth_row(mat:np.ndarray, n:int)->np.array:\n",
    "    return mat[n,:]"
   ]
  },
  {
   "cell_type": "code",
   "execution_count": 65,
   "id": "883023c9-1a68-4f96-b612-8282fb466c7d",
   "metadata": {},
   "outputs": [
    {
     "name": "stdout",
     "output_type": "stream",
     "text": [
      "[0.5   0.25  0.125 0.125]\n"
     ]
    }
   ],
   "source": [
    "n = 0\n",
    "px_given_yn = get_nth_row(pxy, n) / np.sum(get_nth_row(pxy, n))\n",
    "print(px_given_yn)"
   ]
  },
  {
   "cell_type": "code",
   "execution_count": null,
   "id": "64542a79-b6fe-4cd4-835b-db18425a77c0",
   "metadata": {},
   "outputs": [],
   "source": []
  }
 ],
 "metadata": {
  "kernelspec": {
   "display_name": "Python 3 (ipykernel)",
   "language": "python",
   "name": "python3"
  },
  "language_info": {
   "codemirror_mode": {
    "name": "ipython",
    "version": 3
   },
   "file_extension": ".py",
   "mimetype": "text/x-python",
   "name": "python",
   "nbconvert_exporter": "python",
   "pygments_lexer": "ipython3",
   "version": "3.8.10"
  }
 },
 "nbformat": 4,
 "nbformat_minor": 5
}
