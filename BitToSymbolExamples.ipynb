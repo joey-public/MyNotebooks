{
 "cells": [
  {
   "cell_type": "code",
   "execution_count": 4,
   "id": "4c081a57-9afe-4746-82b3-bcd991d03ea0",
   "metadata": {},
   "outputs": [],
   "source": [
    "import numpy as np\n",
    "import scipy.io as spio\n",
    "import matplotlib.pyplot as plt"
   ]
  },
  {
   "cell_type": "code",
   "execution_count": 5,
   "id": "e3a4ebfb-7faf-4826-ab82-3d4737082ec6",
   "metadata": {},
   "outputs": [
    {
     "data": {
      "text/plain": [
       "array([-1,  1,  1, -1,  1, -1, -1, -1, -1,  1,  1, -1, -1,  1, -1,  1, -1,\n",
       "        1,  1, -1,  1,  1, -1, -1, -1,  1,  1, -1,  1,  1, -1, -1, -1,  1,\n",
       "        1, -1,  1,  1,  1,  1], dtype=int8)"
      ]
     },
     "execution_count": 5,
     "metadata": {},
     "output_type": "execute_result"
    }
   ],
   "source": [
    "message = 'hello'\n",
    "data = message.encode('utf-8')\n",
    "data_bits = np.unpackbits(np.frombuffer(data, dtype=np.uint8))\n",
    "data_bits.dtype = np.int8\n",
    "data_bits = 2*data_bits - 1\n",
    "data_bits"
   ]
  },
  {
   "cell_type": "code",
   "execution_count": null,
   "id": "262da25e-0784-4818-a768-4a3d3de55385",
   "metadata": {},
   "outputs": [],
   "source": [
    "def get_str_as_bits(s: str, encode: str = 'utf-8') -> np.ndarray:\n",
    "    \"\"\"\n",
    "    Convert a string to a numpy array of bits (0s and 1s).\n",
    "    \n",
    "    Parameters:\n",
    "    -----------\n",
    "    s : str\n",
    "        The input string to convert\n",
    "    encode : str, optional\n",
    "        The encoding to use, by default 'utf-8'\n",
    "    \n",
    "    Returns:\n",
    "    --------\n",
    "    np.ndarray\n",
    "        A 1D numpy array containing the binary representation (0s and 1s)\n",
    "    \"\"\"\n",
    "    # Convert string to bytes using the specified encoding\n",
    "    byte_data = s.encode(encode)\n",
    "    # Convert bytes to uint8 array\n",
    "    uint8_array = np.frombuffer(byte_data, dtype=np.uint8)\n",
    "    # Unpack uint8 array to bits\n",
    "    bit_array = np.unpackbits(uint8_array)\n",
    "    return bit_array\n",
    "\n",
    "def bits_to_symbols(bits: np.ndarray, symbol_alphabet: np.ndarray) -> np.ndarray:\n",
    "    \"\"\"\n",
    "    Convert an array of bits to symbols using a custom alphabet.\n",
    "    \n",
    "    Parameters:\n",
    "    -----------\n",
    "    bits : np.ndarray\n",
    "        Array of bits (0s and 1s)\n",
    "    symbol_alphabet : np.ndarray\n",
    "        Array of complex symbols to use as the alphabet.\n",
    "        The length must be a power of 2.\n",
    "    \n",
    "    Returns:\n",
    "    --------\n",
    "    np.ndarray\n",
    "        Array of complex symbols\n",
    "    \"\"\"\n",
    "    # Verify that symbol_alphabet length is a power of 2\n",
    "    n_symbols = len(symbol_alphabet)\n",
    "    if n_symbols & (n_symbols - 1) != 0:\n",
    "        raise ValueError(\"Symbol alphabet length must be a power of 2\")\n",
    "    \n",
    "    # Calculate how many bits per symbol\n",
    "    bits_per_symbol = int(np.log2(n_symbols))\n",
    "    \n",
    "    # Pad bits if necessary to make it divisible by bits_per_symbol\n",
    "    remainder = len(bits) % bits_per_symbol\n",
    "    if remainder != 0:\n",
    "        pad_length = bits_per_symbol - remainder\n",
    "        bits = np.append(bits, np.zeros(pad_length, dtype=bits.dtype))\n",
    "    \n",
    "    # Reshape bits into groups\n",
    "    bit_groups = bits.reshape(-1, bits_per_symbol)\n",
    "    \n",
    "    # Convert bit groups to indices (binary to decimal conversion)\n",
    "    powers = 2 ** np.arange(bits_per_symbol - 1, -1, -1)\n",
    "    indices = np.sum(bit_groups * powers, axis=1).astype(int)\n",
    "    \n",
    "    # Map indices to symbols\n",
    "    symbols = symbol_alphabet[indices]\n",
    "    \n",
    "    return symbols\n",
    "\n",
    "def str_to_symbols(s: str, symbol_alphabet: np.ndarray, encode: str = 'utf-8') -> np.ndarray:\n",
    "    \"\"\"\n",
    "    Convert a string directly to symbols using a custom alphabet.\n",
    "    \n",
    "    Parameters:\n",
    "    -----------\n",
    "    s : str\n",
    "        The input string to convert\n",
    "    symbol_alphabet : np.ndarray\n",
    "        Array of complex symbols to use as the alphabet.\n",
    "        The length must be a power of 2.\n",
    "    encode : str, optional\n",
    "        The encoding to use, by default 'utf-8'\n",
    "    \n",
    "    Returns:\n",
    "    --------\n",
    "    np.ndarray\n",
    "        Array of complex symbols\n",
    "    \"\"\"\n",
    "    bits = get_str_as_bits(s, encode)\n",
    "    return bits_to_symbols(bits, symbol_alphabet)\n",
    "\n",
    "# 16-QAM alphabet example\n",
    "def create_qam16_alphabet():\n",
    "    \"\"\"Create a 16-QAM constellation.\"\"\"\n",
    "    real_parts = np.array([-3, -1, 1, 3])\n",
    "    imag_parts = np.array([-3, -1, 1, 3])\n",
    "    real_grid, imag_grid = np.meshgrid(real_parts, imag_parts)\n",
    "    return (real_grid.flatten() + 1j * imag_grid.flatten()) / np.sqrt(10)  # Normalized"
   ]
  },
  {
   "cell_type": "code",
   "execution_count": null,
   "id": "f55001d3-a788-4b58-a33f-54aa42586ec2",
   "metadata": {},
   "outputs": [],
   "source": [
    "# 64-QAM alphabet example\n",
    "def create_qam64_alphabet():\n",
    "    \"\"\"Create a 64-QAM constellation.\"\"\"\n",
    "    real_parts = np.array([-7, -5, -3, -1, 1, 3, 5, 7])\n",
    "    imag_parts = np.array([-7, -5, -3, -1, 1, 3, 5, 7])\n",
    "    real_grid, imag_grid = np.meshgrid(real_parts, imag_parts)\n",
    "    return (real_grid.flatten() + 1j * imag_grid.flatten()) / np.sqrt(42)  # Normalized"
   ]
  },
  {
   "cell_type": "code",
   "execution_count": 10,
   "id": "7a46862c-af25-43c7-9c68-71eae21ab448",
   "metadata": {},
   "outputs": [],
   "source": [
    "# Example with QPSK (4 symbols = 2 bits per symbol)\n",
    "qpsk_alphabet = np.array([1+1j, -1+1j, -1-1j, 1-1j])\n",
    "qpsk_symbols = str_to_symbols(\"hello\", qpsk_alphabet)\n",
    "\n",
    "# Example with 8-PSK (8 symbols = 3 bits per symbol)\n",
    "psk8_alphabet = np.exp(1j * np.arange(0, 2*np.pi, 2*np.pi/8))\n",
    "psk8_symbols = str_to_symbols(\"hello\", psk8_alphabet)\n",
    "\n",
    "# Example with 16-QAM (16 symbols = 4 bits per symbol)\n",
    "qam16_alphabet = create_qam16_alphabet()\n",
    "qam16_symbols = str_to_symbols(\"hello\", qam16_alphabet)"
   ]
  },
  {
   "cell_type": "code",
   "execution_count": 11,
   "id": "00c297f3-712f-4efb-ba3c-18773294ae33",
   "metadata": {},
   "outputs": [
    {
     "data": {
      "text/plain": [
       "<matplotlib.collections.PathCollection at 0x7f939b56eff0>"
      ]
     },
     "execution_count": 11,
     "metadata": {},
     "output_type": "execute_result"
    },
    {
     "data": {
      "image/png": "[encoded data removed]",
      "text/plain": [
       "<Figure size 640x480 with 1 Axes>"
      ]
     },
     "metadata": {},
     "output_type": "display_data"
    }
   ],
   "source": [
    "plt.scatter(qpsk_alphabet.real, qpsk_alphabet.imag)"
   ]
  },
  {
   "cell_type": "code",
   "execution_count": 12,
   "id": "f3630e9a-ff50-4a3a-bd0d-ac44e6b9fda0",
   "metadata": {},
   "outputs": [
    {
     "data": {
      "text/plain": [
       "<matplotlib.collections.PathCollection at 0x7f939ab5f3e0>"
      ]
     },
     "execution_count": 12,
     "metadata": {},
     "output_type": "execute_result"
    },
    {
     "data": {
      "image/png": "[encoded data removed]",
      "text/plain": [
       "<Figure size 640x480 with 1 Axes>"
      ]
     },
     "metadata": {},
     "output_type": "display_data"
    }
   ],
   "source": [
    "plt.scatter(psk8_alphabet.real, psk8_alphabet.imag)"
   ]
  }
 ],
 "metadata": {
  "kernelspec": {
   "display_name": "Python 3 (ipykernel)",
   "language": "python",
   "name": "python3"
  },
  "language_info": {
   "codemirror_mode": {
    "name": "ipython",
    "version": 3
   },
   "file_extension": ".py",
   "mimetype": "text/x-python",
   "name": "python",
   "nbconvert_exporter": "python",
   "pygments_lexer": "ipython3",
   "version": "3.12.3"
  }
 },
 "nbformat": 4,
 "nbformat_minor": 5
}
