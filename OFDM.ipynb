{
 "cells": [
  {
   "cell_type": "code",
   "execution_count": 38,
   "id": "4c081a57-9afe-4746-82b3-bcd991d03ea0",
   "metadata": {},
   "outputs": [],
   "source": [
    "import numpy as np\n",
    "import scipy.io as spio\n",
    "import matplotlib.pyplot as plt"
   ]
  },
  {
   "cell_type": "code",
   "execution_count": 39,
   "id": "63c3bf57-e9ea-4c5d-bca0-1ba2b4289c5c",
   "metadata": {},
   "outputs": [],
   "source": [
    "def pulse_rect(sps, t_sym, rect_width=-1):\n",
    "    if rect_width==-1 or rect_width==t_sym:\n",
    "        return np.ones(sps)\n",
    "    n_ones = int((rect_width/t_sym)*sps)\n",
    "    n_zeros = int((sps-n_ones)/2)\n",
    "    #TODO: make this always return a signal with size=sps\n",
    "    assert sps == n_ones + n_zeros + n_zeros\n",
    "    return np.hstack((np.zeros(n_zeros), np.ones(n_ones), np.zeros(n_zeros)))\n",
    "\n",
    "def apply_pulse_shape(data_symbols:np.array, pulse_signal:np.array, flatten=False)->np.array:\n",
    "    \"\"\" Generate pulse shaped data array.\n",
    "       \n",
    "        Positional Arguments:\n",
    "            data_symbols: set of data symbols to be shaped.\n",
    "            pulse_signal: The pulse waveform that does the shaping.\n",
    "            flatten: T/F, if true then the returned data will be a row vector with shape (1, n_sym*sps).\n",
    "                          if false then the returned data will be a matrix where each row is a pulse-shaped symbol. dim -> (n_sym, sps)\n",
    "            \n",
    "    \"\"\"\n",
    "    n_sym = len(data_symbols)\n",
    "    sps = len(pulse_signal)\n",
    "    data = np.multiply(data_symbols.reshape(n_sym, 1), pulse_signal.reshape(1, sps))\n",
    "    if flatten:\n",
    "        return data.reshape(int(n_sym*sps),)\n",
    "    else:\n",
    "        return data "
   ]
  },
  {
   "cell_type": "code",
   "execution_count": 41,
   "id": "c511bdbe-2d35-4d11-b2fa-8582c32f6b9a",
   "metadata": {},
   "outputs": [],
   "source": [
    "#Constants\n",
    "N_FFT = 64\n",
    "N_CP = 16\n",
    "N_GI = 32\n",
    "N_BLOCKS = 10\n",
    "\n",
    "#import given data\n",
    "ofdm_pkt = spio.loadmat('./ofdm_pkt.mat')\n",
    "s = ofdm_pkt['s']\n",
    "y = ofdm_pkt['y']"
   ]
  },
  {
   "cell_type": "code",
   "execution_count": 48,
   "id": "9a2159fc-f7a6-4db4-a818-4c547c8c2704",
   "metadata": {},
   "outputs": [
    {
     "data": {
      "text/plain": [
       "(1, 52)"
      ]
     },
     "execution_count": 48,
     "metadata": {},
     "output_type": "execute_result"
    }
   ],
   "source": [
    "message = 'hello world'\n"
   ]
  },
  {
   "cell_type": "code",
   "execution_count": 80,
   "id": "e3a4ebfb-7faf-4826-ab82-3d4737082ec6",
   "metadata": {},
   "outputs": [
    {
     "data": {
      "text/plain": [
       "array([-1,  1,  1, -1,  1, -1, -1, -1, -1,  1,  1, -1, -1,  1, -1,  1, -1,\n",
       "        1,  1, -1,  1,  1, -1, -1, -1,  1,  1, -1,  1,  1, -1, -1, -1,  1,\n",
       "        1, -1,  1,  1,  1,  1], dtype=int8)"
      ]
     },
     "execution_count": 80,
     "metadata": {},
     "output_type": "execute_result"
    }
   ],
   "source": [
    "message = 'hello'\n",
    "data = message.encode('utf-8')\n",
    "data_bits = np.unpackbits(np.frombuffer(data, dtype=np.uint8))\n",
    "data_bits.dtype = np.int8\n",
    "data_bits = 2*data_bits - 1\n",
    "data_bits"
   ]
  },
  {
   "cell_type": "code",
   "execution_count": 83,
   "id": "a6f774ed-8718-4c86-82e5-45efd28824eb",
   "metadata": {},
   "outputs": [],
   "source": [
    "def bits_to_qpsk(bits: np.ndarray) -> np.ndarray:\n",
    "    # Ensure we have an even number of bits by padding if necessary\n",
    "    if len(bits) % 2 != 0:\n",
    "        bits = np.append(bits, 0)\n",
    "    bit_pairs = bits.reshape(-1, 2)\n",
    "    print(bit_pairs)\n",
    "    indices = bit_pairs[:, 0] * 2 + bit_pairs[:, 1]\n",
    "    print(indices)\n",
    "    qpsk_map = np.array([1+1j, -1+1j, 1-1j, -1-1j])\n",
    "    qpsk_symbols = qpsk_map[indices]\n",
    "    return qpsk_symbols"
   ]
  },
  {
   "cell_type": "code",
   "execution_count": 84,
   "id": "13e13c23-773b-4095-8713-4cb5d5325a92",
   "metadata": {},
   "outputs": [
    {
     "name": "stdout",
     "output_type": "stream",
     "text": [
      "[[-1  1]\n",
      " [ 1 -1]\n",
      " [ 1 -1]\n",
      " [-1 -1]\n",
      " [-1  1]\n",
      " [ 1 -1]\n",
      " [-1  1]\n",
      " [-1  1]\n",
      " [-1  1]\n",
      " [ 1 -1]\n",
      " [ 1  1]\n",
      " [-1 -1]\n",
      " [-1  1]\n",
      " [ 1 -1]\n",
      " [ 1  1]\n",
      " [-1 -1]\n",
      " [-1  1]\n",
      " [ 1 -1]\n",
      " [ 1  1]\n",
      " [ 1  1]]\n",
      "[-1  1  1 -3 -1  1 -1 -1 -1  1  3 -3 -1  1  3 -3 -1  1  3  3]\n"
     ]
    }
   ],
   "source": [
    "data_symbols = bits_to_qpsk(data_bits)"
   ]
  },
  {
   "cell_type": "code",
   "execution_count": 78,
   "id": "b306a9bd-d5b3-45b0-aa27-f98e1d1390fb",
   "metadata": {},
   "outputs": [
    {
     "name": "stdout",
     "output_type": "stream",
     "text": [
      "88\n",
      "44\n"
     ]
    }
   ],
   "source": [
    "print(len(data_bits))\n",
    "print(len(data_symbols))"
   ]
  },
  {
   "cell_type": "code",
   "execution_count": 87,
   "id": "5f3c46cc-eab3-4eec-9f08-6be8528cf634",
   "metadata": {},
   "outputs": [],
   "source": [
    "def bits_to_symbols(bits: np.ndarray, symbol_alphabet: np.ndarray) -> np.ndarray:\n",
    "    \"\"\"\n",
    "    Convert an array of bits to symbols using a custom alphabet.\n",
    "    \n",
    "    Parameters:\n",
    "    -----------\n",
    "    bits : np.ndarray\n",
    "        Array of bits (0s and 1s)\n",
    "    symbol_alphabet : np.ndarray\n",
    "        Array of complex symbols to use as the alphabet.\n",
    "        The length must be a power of 2.\n",
    "    \n",
    "    Returns:\n",
    "    --------\n",
    "    np.ndarray\n",
    "        Array of complex symbols\n",
    "    \"\"\"\n",
    "    n_symbols = len(symbol_alphabet)\n",
    "    assert n_symbols & (n_symbols - 1) == 0, 'Symbol alphabet length must be a power of 2'\n",
    "    bits_per_symbol = int(np.log2(n_symbols))\n",
    "    remainder = len(bits) % bits_per_symbol\n",
    "    if remainder != 0:\n",
    "        pad_length = bits_per_symbol - remainder\n",
    "        bits = np.append(bits, np.zeros(pad_length, dtype=bits.dtype))\n",
    "    bit_groups = bits.reshape(-1, bits_per_symbol)\n",
    "    powers = 2 ** np.arange(bits_per_symbol - 1, -1, -1)\n",
    "    indices = np.sum(bit_groups * powers, axis=1).astype(int)\n",
    "    symbols = symbol_alphabet[indices]\n",
    "    return symbols"
   ]
  },
  {
   "cell_type": "code",
   "execution_count": 88,
   "id": "3bc1c5ae-3b9b-45ad-87c8-1d6b15ed5102",
   "metadata": {},
   "outputs": [
    {
     "ename": "TypeError",
     "evalue": "only integer scalar arrays can be converted to a scalar index",
     "output_type": "error",
     "traceback": [
      "\u001b[31m---------------------------------------------------------------------------\u001b[39m",
      "\u001b[31mTypeError\u001b[39m                                 Traceback (most recent call last)",
      "\u001b[36mCell\u001b[39m\u001b[36m \u001b[39m\u001b[32mIn[88]\u001b[39m\u001b[32m, line 1\u001b[39m\n\u001b[32m----> \u001b[39m\u001b[32m1\u001b[39m x = \u001b[43mbits_to_symbols\u001b[49m\u001b[43m(\u001b[49m\u001b[43mdata_bits\u001b[49m\u001b[43m,\u001b[49m\u001b[43m \u001b[49m\u001b[43m[\u001b[49m\u001b[32;43m1\u001b[39;49m\u001b[43m+\u001b[49m\u001b[32;43m1\u001b[39;49m\u001b[43mj\u001b[49m\u001b[43m,\u001b[49m\u001b[43m \u001b[49m\u001b[32;43m1\u001b[39;49m\u001b[43m-\u001b[49m\u001b[32;43m1\u001b[39;49m\u001b[43mj\u001b[49m\u001b[43m,\u001b[49m\u001b[43m \u001b[49m\u001b[43m-\u001b[49m\u001b[32;43m1\u001b[39;49m\u001b[43m+\u001b[49m\u001b[32;43m1\u001b[39;49m\u001b[43mj\u001b[49m\u001b[43m,\u001b[49m\u001b[43m \u001b[49m\u001b[43m-\u001b[49m\u001b[32;43m1\u001b[39;49m\u001b[43m-\u001b[49m\u001b[32;43m1\u001b[39;49m\u001b[43mj\u001b[49m\u001b[43m]\u001b[49m\u001b[43m)\u001b[49m\n",
      "\u001b[36mCell\u001b[39m\u001b[36m \u001b[39m\u001b[32mIn[87]\u001b[39m\u001b[32m, line 28\u001b[39m, in \u001b[36mbits_to_symbols\u001b[39m\u001b[34m(bits, symbol_alphabet)\u001b[39m\n\u001b[32m     26\u001b[39m powers = \u001b[32m2\u001b[39m ** np.arange(bits_per_symbol - \u001b[32m1\u001b[39m, -\u001b[32m1\u001b[39m, -\u001b[32m1\u001b[39m)\n\u001b[32m     27\u001b[39m indices = np.sum(bit_groups * powers, axis=\u001b[32m1\u001b[39m).astype(\u001b[38;5;28mint\u001b[39m)\n\u001b[32m---> \u001b[39m\u001b[32m28\u001b[39m symbols = \u001b[43msymbol_alphabet\u001b[49m\u001b[43m[\u001b[49m\u001b[43mindices\u001b[49m\u001b[43m]\u001b[49m\n\u001b[32m     29\u001b[39m \u001b[38;5;28;01mreturn\u001b[39;00m symbols\n",
      "\u001b[31mTypeError\u001b[39m: only integer scalar arrays can be converted to a scalar index"
     ]
    }
   ],
   "source": [
    "x = bits_to_symbols(data_bits, [1+1j, 1-1j, -1+1j, -1-1j])"
   ]
  },
  {
   "cell_type": "code",
   "execution_count": 89,
   "id": "f9af8d71-1023-4a2f-b046-db9c5b445e44",
   "metadata": {},
   "outputs": [],
   "source": [
    "import numpy as np\n",
    "\n",
    "def get_str_as_bits(s: str, encode: str = 'utf-8') -> np.ndarray:\n",
    "    \"\"\"\n",
    "    Convert a string to a numpy array of bits (0s and 1s).\n",
    "    \n",
    "    Parameters:\n",
    "    -----------\n",
    "    s : str\n",
    "        The input string to convert\n",
    "    encode : str, optional\n",
    "        The encoding to use, by default 'utf-8'\n",
    "    \n",
    "    Returns:\n",
    "    --------\n",
    "    np.ndarray\n",
    "        A 1D numpy array containing the binary representation (0s and 1s)\n",
    "    \"\"\"\n",
    "    # Convert string to bytes using the specified encoding\n",
    "    byte_data = s.encode(encode)\n",
    "    \n",
    "    # Convert bytes to uint8 array\n",
    "    uint8_array = np.frombuffer(byte_data, dtype=np.uint8)\n",
    "    \n",
    "    # Unpack uint8 array to bits\n",
    "    bit_array = np.unpackbits(uint8_array)\n",
    "    \n",
    "    return bit_array\n",
    "\n",
    "def bits_to_symbols(bits: np.ndarray, symbol_alphabet: np.ndarray) -> np.ndarray:\n",
    "    \"\"\"\n",
    "    Convert an array of bits to symbols using a custom alphabet.\n",
    "    \n",
    "    Parameters:\n",
    "    -----------\n",
    "    bits : np.ndarray\n",
    "        Array of bits (0s and 1s)\n",
    "    symbol_alphabet : np.ndarray\n",
    "        Array of complex symbols to use as the alphabet.\n",
    "        The length must be a power of 2.\n",
    "    \n",
    "    Returns:\n",
    "    --------\n",
    "    np.ndarray\n",
    "        Array of complex symbols\n",
    "    \"\"\"\n",
    "    # Verify that symbol_alphabet length is a power of 2\n",
    "    n_symbols = len(symbol_alphabet)\n",
    "    if n_symbols & (n_symbols - 1) != 0:\n",
    "        raise ValueError(\"Symbol alphabet length must be a power of 2\")\n",
    "    \n",
    "    # Calculate how many bits per symbol\n",
    "    bits_per_symbol = int(np.log2(n_symbols))\n",
    "    \n",
    "    # Pad bits if necessary to make it divisible by bits_per_symbol\n",
    "    remainder = len(bits) % bits_per_symbol\n",
    "    if remainder != 0:\n",
    "        pad_length = bits_per_symbol - remainder\n",
    "        bits = np.append(bits, np.zeros(pad_length, dtype=bits.dtype))\n",
    "    \n",
    "    # Reshape bits into groups\n",
    "    bit_groups = bits.reshape(-1, bits_per_symbol)\n",
    "    \n",
    "    # Convert bit groups to indices (binary to decimal conversion)\n",
    "    powers = 2 ** np.arange(bits_per_symbol - 1, -1, -1)\n",
    "    indices = np.sum(bit_groups * powers, axis=1).astype(int)\n",
    "    \n",
    "    # Map indices to symbols\n",
    "    symbols = symbol_alphabet[indices]\n",
    "    \n",
    "    return symbols\n",
    "\n",
    "def str_to_symbols(s: str, symbol_alphabet: np.ndarray, encode: str = 'utf-8') -> np.ndarray:\n",
    "    \"\"\"\n",
    "    Convert a string directly to symbols using a custom alphabet.\n",
    "    \n",
    "    Parameters:\n",
    "    -----------\n",
    "    s : str\n",
    "        The input string to convert\n",
    "    symbol_alphabet : np.ndarray\n",
    "        Array of complex symbols to use as the alphabet.\n",
    "        The length must be a power of 2.\n",
    "    encode : str, optional\n",
    "        The encoding to use, by default 'utf-8'\n",
    "    \n",
    "    Returns:\n",
    "    --------\n",
    "    np.ndarray\n",
    "        Array of complex symbols\n",
    "    \"\"\"\n",
    "    bits = get_str_as_bits(s, encode)\n",
    "    return bits_to_symbols(bits, symbol_alphabet)\n",
    "\n",
    "# Example usages:\n",
    "\n",
    "# QPSK alphabet (same as before)\n",
    "qpsk_alphabet = np.array([1+1j, -1+1j, -1-1j, 1-1j])\n",
    "\n",
    "# 8-PSK alphabet example\n",
    "psk8_alphabet = np.exp(1j * np.arange(0, 2*np.pi, 2*np.pi/8))\n",
    "\n",
    "# 16-QAM alphabet example\n",
    "def create_qam16_alphabet():\n",
    "    \"\"\"Create a 16-QAM constellation.\"\"\"\n",
    "    real_parts = np.array([-3, -1, 1, 3])\n",
    "    imag_parts = np.array([-3, -1, 1, 3])\n",
    "    real_grid, imag_grid = np.meshgrid(real_parts, imag_parts)\n",
    "    return (real_grid.flatten() + 1j * imag_grid.flatten()) / np.sqrt(10)  # Normalized\n",
    "\n",
    "# 64-QAM alphabet example\n",
    "def create_qam64_alphabet():\n",
    "    \"\"\"Create a 64-QAM constellation.\"\"\"\n",
    "    real_parts = np.array([-7, -5, -3, -1, 1, 3, 5, 7])\n",
    "    imag_parts = np.array([-7, -5, -3, -1, 1, 3, 5, 7])\n",
    "    real_grid, imag_grid = np.meshgrid(real_parts, imag_parts)\n",
    "    return (real_grid.flatten() + 1j * imag_grid.flatten()) / np.sqrt(42)  # Normalized"
   ]
  },
  {
   "cell_type": "code",
   "execution_count": 90,
   "id": "7a46862c-af25-43c7-9c68-71eae21ab448",
   "metadata": {},
   "outputs": [],
   "source": [
    "# Example with QPSK (4 symbols = 2 bits per symbol)\n",
    "qpsk_alphabet = np.array([1+1j, -1+1j, -1-1j, 1-1j])\n",
    "qpsk_symbols = str_to_symbols(\"hello\", qpsk_alphabet)\n",
    "\n",
    "# Example with 8-PSK (8 symbols = 3 bits per symbol)\n",
    "psk8_alphabet = np.exp(1j * np.arange(0, 2*np.pi, 2*np.pi/8))\n",
    "psk8_symbols = str_to_symbols(\"hello\", psk8_alphabet)\n",
    "\n",
    "# Example with 16-QAM (16 symbols = 4 bits per symbol)\n",
    "qam16_alphabet = create_qam16_alphabet()\n",
    "qam16_symbols = str_to_symbols(\"hello\", qam16_alphabet)"
   ]
  },
  {
   "cell_type": "code",
   "execution_count": 97,
   "id": "00c297f3-712f-4efb-ba3c-18773294ae33",
   "metadata": {},
   "outputs": [
    {
     "data": {
      "text/plain": [
       "<matplotlib.collections.PathCollection at 0x7d7a9c6011c0>"
      ]
     },
     "execution_count": 97,
     "metadata": {},
     "output_type": "execute_result"
    },
    {
     "data": {
      "image/png": "[encoded data removed]",
      "text/plain": [
       "<Figure size 640x480 with 1 Axes>"
      ]
     },
     "metadata": {},
     "output_type": "display_data"
    }
   ],
   "source": [
    "plt.scatter(qpsk_alphabet.real, qpsk_alphabet.imag)"
   ]
  },
  {
   "cell_type": "code",
   "execution_count": 99,
   "id": "f3630e9a-ff50-4a3a-bd0d-ac44e6b9fda0",
   "metadata": {},
   "outputs": [
    {
     "data": {
      "text/plain": [
       "<matplotlib.collections.PathCollection at 0x7d7a851b5b50>"
      ]
     },
     "execution_count": 99,
     "metadata": {},
     "output_type": "execute_result"
    },
    {
     "data": {
      "image/png": "[encoded data removed]",
      "text/plain": [
       "<Figure size 640x480 with 1 Axes>"
      ]
     },
     "metadata": {},
     "output_type": "display_data"
    }
   ],
   "source": [
    "plt.scatter(psk8_alphabet.real, psk8_alphabet.imag)"
   ]
  },
  {
   "cell_type": "code",
   "execution_count": 100,
   "id": "8d039e25-3914-4ca9-ad5b-83311268e6fa",
   "metadata": {},
   "outputs": [
    {
     "data": {
      "text/plain": [
       "<matplotlib.collections.PathCollection at 0x7d7a85efb170>"
      ]
     },
     "execution_count": 100,
     "metadata": {},
     "output_type": "execute_result"
    },
    {
     "data": {
      "image/png": "[encoded data removed]",
      "text/plain": [
       "<Figure size 640x480 with 1 Axes>"
      ]
     },
     "metadata": {},
     "output_type": "display_data"
    }
   ],
   "source": [
    "plt.scatter(qam16_alphabet.real, qam16_alphabet.imag)"
   ]
  },
  {
   "cell_type": "code",
   "execution_count": null,
   "id": "1c022441-fc06-4d9c-8d3d-61d9a8095bfe",
   "metadata": {},
   "outputs": [],
   "source": []
  }
 ],
 "metadata": {
  "kernelspec": {
   "display_name": "Python 3 (ipykernel)",
   "language": "python",
   "name": "python3"
  },
  "language_info": {
   "codemirror_mode": {
    "name": "ipython",
    "version": 3
   },
   "file_extension": ".py",
   "mimetype": "text/x-python",
   "name": "python",
   "nbconvert_exporter": "python",
   "pygments_lexer": "ipython3",
   "version": "3.12.3"
  }
 },
 "nbformat": 4,
 "nbformat_minor": 5
}
