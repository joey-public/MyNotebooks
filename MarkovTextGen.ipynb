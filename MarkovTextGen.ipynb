{
 "cells": [
  {
   "cell_type": "markdown",
   "id": "7b20d5b3-0729-44a6-b1c8-644d6d80efcc",
   "metadata": {},
   "source": [
    "# Text Generation with Markov Chains:\n",
    "This notebook explores the idea of markov chains by following the classic example of text generation. \n",
    "\n",
    "The code I wirte here is heavily based on this video tutorial: https://www.youtube.com/watch?v=eGFJ8vugIWA"
   ]
  },
  {
   "cell_type": "markdown",
   "id": "77beb724-5ec1-40e2-811a-c1b72fd0895c",
   "metadata": {},
   "source": [
    "## What is a Markov chain?\n",
    "\n",
    "Below is a summary of my understandin of Markov Chains. \n",
    "\n",
    "For a more thorough (and more accurate) description see this wikipedia page. Also the applications section is very interesting: \n",
    "\n",
    "https://en.wikipedia.org/wiki/Markov_chain\n",
    "\n",
    "Also having previosly read this book chapter helped me more quickly grasp the Markov chain process. I find it easiest to think of the Markov chain as a probablistic state machine. \n",
    "\n",
    "https://gameprogrammingpatterns.com/state.html\n",
    " \n",
    "\n",
    "The Markov chain is constructed of a set of $N$ possible states and a set of $K$ transistions between states. At any given time the system is in one state and has some *pre-defined* probabily of transitioning to another state. It is possible to transtion from any one state to the any other state (includeing transitioning back to the same state). So if the sytem is in state $n$ it has $K$ possible transitions with probabilities $p_{n,k}$ (probability of transitioning from state $n$ to state $k$). For each state the sum of all transition probabilites must be equal to 1. Also I chose to think of each state having a transition to all other states, but there is nothing preventing $p_{nk}=0$ which would imply it is actually impossible to make that transition. \n",
    "\n",
    "Mathametically we can consider a markov chain using linear algebra. We can model the states as a column vector $\\vec{s}$, and the transitions as a matrix $T$. Each column of $T$ represents the possible transtion probabilties for the correspoding row of $\\vec{s}$. To predict the probabiltied of which state the system will be in after $n$ transititons we can use the following equation:\n",
    "\n",
    "$$\n",
    "\\vec{s}_n = T^n\\vec{s}_0\n",
    "$$"
   ]
  },
  {
   "cell_type": "markdown",
   "id": "3b287116-44a6-4105-900f-2fa9c9f24a3c",
   "metadata": {},
   "source": [
    "## How to use this Model to generate Text?\n",
    "\n",
    "It turns out we can model plain text as a markov chain. In its simplest form we can think of text as a sequence of characters. Then this could be viewed as a markov chain where each character in a language is a possible state that has some probability of moving to another character. Alternitively we can see each full word as a state and transition to the next word. \n",
    "\n",
    "Or every $n$ characters is a state. This is what is commenly reffered to as an n-gram, and it is commonly to use this model. \n",
    "\n",
    "To Generate text with a Markov Chain we first need to construct the chain itself, and then use that chain/model to generate new text. You could technically generate the markov chain manually, but instead it is more accurate and efficent to generate the model based on some input source text. \n",
    "\n",
    "## The Code\n",
    "\n",
    "The Code below shows one way to gnerate a markov model based on an input source text. This code is basically identical to the code explained in this video I linked. I just cleaned it up a bit and wrapped it into a function. We use a dictionary to model our markov chain where each key in the dictionary is a state and each value is a list of transitions. \n",
    "\n",
    "I loop through each charater in the source text and generate the current state/gram. \n",
    "\n",
    "If the gram/state does not already exist in our model then we add it to the model. \n",
    "\n",
    "Then I append the single character that appears after the currnet gram to its transition list. Note it is possible to have recurring characters in our transtion list, but this actually bakes in the probabilities for us during the generation, as we will see more clearly later.\n",
    "\n",
    "For the last gram in the text I append the first charcter in the text to the transition list and then break the for loop. \n",
    "\n",
    "Finally we return the model. "
   ]
  },
  {
   "cell_type": "code",
   "execution_count": 3,
   "id": "4a0c8f69-fa3c-4fc1-9019-2dbaff7d359d",
   "metadata": {},
   "outputs": [],
   "source": [
    "import random\n",
    "import pprint\n",
    "pp = pprint.pprint"
   ]
  },
  {
   "cell_type": "code",
   "execution_count": 4,
   "id": "0e6e5646-56f1-4fb9-b9c8-f94f5bae3918",
   "metadata": {},
   "outputs": [],
   "source": [
    "def gen_markov_model(source:str, order:int)->dict:\n",
    "    model = {}\n",
    "    for i in range(0,len(source)):\n",
    "        #print('----------\\n{}:{}'.format(i+order, len(source)))\n",
    "        eidx = i+order\n",
    "        gram = source_text[i:eidx:1]\n",
    "        #print(gram)\n",
    "        #if this gram is new add it as a key\n",
    "        if not gram in model.keys():\n",
    "            model[gram] = []\n",
    "        if eidx < len(source):\n",
    "            next_char = source_text[i+order]\n",
    "            model[gram].append(next_char)\n",
    "        else:\n",
    "            next_char = source_text[0]\n",
    "            model[gram].append(next_char)\n",
    "            break\n",
    "        #print('{} -> {}'.format(gram, next_char))\n",
    "    return model"
   ]
  },
  {
   "cell_type": "code",
   "execution_count": 5,
   "id": "8310390b-cba4-44f7-8df1-0412011b195e",
   "metadata": {},
   "outputs": [
    {
     "name": "stdout",
     "output_type": "stream",
     "text": [
      "29\n",
      "{' he': ['l', 'l'],\n",
      " ' is': [' ', ' ', ' '],\n",
      " ' jo': ['e', 's', 'h'],\n",
      " ' my': [' ', ' ', ' '],\n",
      " ' na': ['m', 'm', 'm'],\n",
      " '. h': ['e', 'e'],\n",
      " 'ame': [' ', ' ', ' '],\n",
      " 'e i': ['s', 's', 's'],\n",
      " 'ell': ['o', 'o', 'o'],\n",
      " 'ey.': [' '],\n",
      " 'h. ': ['h'],\n",
      " 'hel': ['l', 'l', 'l'],\n",
      " 'is ': ['j', 'j', 'j'],\n",
      " 'joe': ['y'],\n",
      " 'joh': ['n'],\n",
      " 'jos': ['h'],\n",
      " 'llo': [' ', ' ', ' '],\n",
      " 'lo ': ['m', 'm', 'm'],\n",
      " 'me ': ['i', 'i', 'i'],\n",
      " 'my ': ['n', 'n', 'n'],\n",
      " 'nam': ['e', 'e', 'e'],\n",
      " 'o m': ['y', 'y', 'y'],\n",
      " 'oey': ['.'],\n",
      " 'ohn': ['h'],\n",
      " 'osh': ['.'],\n",
      " 's j': ['o', 'o', 'o'],\n",
      " 'sh.': [' '],\n",
      " 'y n': ['a', 'a', 'a'],\n",
      " 'y. ': ['h']}\n",
      "True\n"
     ]
    }
   ],
   "source": [
    "source_text = 'hello my name is joey. hello my name is josh. hello my name is john'\n",
    "order = 3\n",
    "x = gen_markov_model(source_text, order)\n",
    "\n",
    "L = len(source_text) \n",
    "keys = list(x.keys())\n",
    "last_n_gram = source_text[L-order:L]\n",
    "\n",
    "print(len(x))\n",
    "pp(x)\n",
    "print(last_n_gram in keys)"
   ]
  },
  {
   "cell_type": "markdown",
   "id": "aaedb164-856e-4f07-9f40-7c0bc23705d0",
   "metadata": {},
   "source": [
    "## Using the Model to Generate Text\n",
    "\n",
    "Now that we can generate a model, we can use it!\n",
    "\n",
    "The function below generates text based on a given markov model. \n",
    "\n",
    "We tell the model which state to start in and how many characters to generate. \n",
    "\n",
    "Then we simply run a loop where we randomly choose the next charater from the current states transition list. Sine our model just added duplicate charaters we can just choose from the list by weighing each elemet with an equal probability. \n",
    "\n",
    "We add the nexxt character to the result and defin the current state as the last n charcters of the result before returning to the top of the loop. "
   ]
  },
  {
   "cell_type": "code",
   "execution_count": 6,
   "id": "9d6d380b-0a5c-4149-8e1e-7938bd28665a",
   "metadata": {},
   "outputs": [],
   "source": [
    "def generate_markov_text(start_gram:str, model:dict, model_order:int, gen_len:int)->str:\n",
    "    if start_gram not in model.keys():\n",
    "        print('start gram must appear in the model keys: {}'.format(model.keys()))\n",
    "        return \n",
    "    result = start_gram\n",
    "    cur_gram = start_gram\n",
    "    for i in range(0,gen_len):\n",
    "        if cur_gram not in model.keys(): break #stop from crashing on edge case \n",
    "        next_char = random.choice(model[cur_gram])\n",
    "        result += next_char\n",
    "        cur_gram = result[len(result)-model_order:len(result):1]\n",
    "    return result\n",
    "    "
   ]
  },
  {
   "cell_type": "markdown",
   "id": "89ef00ed-fa58-4c81-b8b3-33f3e31cb30b",
   "metadata": {},
   "source": [
    "Here I copied a paragraph from wikipedia that discussed the Toledo War. The model gets more beliveable the more input text you give it, and interestingly will mimic the style of the sou"
   ]
  },
  {
   "cell_type": "code",
   "execution_count": 7,
   "id": "3846c67a-175d-4a7c-97ee-3b216e13d474",
   "metadata": {},
   "outputs": [],
   "source": [
    "source_text = 'The Toledo War (1835–36), also known as the Michigan–Ohio War or the Ohio–Michigan War, was a boundary dispute between the U.S. state of Ohio and the adjoining territory of Michigan over what is now known as the Toledo Strip. Control of the mouth of the Maumee River and the inland shipping opportunities it represented, and the good farmland to the west were seen by both parties as valuable economic assets. Poor geographical understanding of the Great Lakes helped produce conflicting state and federal legislation between 1787 and 1805, and varying interpretations of the laws led the governments of Ohio and Michigan to both claim jurisdiction over a 468-square-mile (1,210 km2) region along their border. The situation came to a head when Michigan petitioned for statehood in 1835 and sought to include the disputed territory within its boundaries. Both sides passed legislation attempting to force the other sides capitulation, and Ohios Governor Robert Lucas and Michigans 24-year-old Boy Governor Stevens T. Mason helped institute criminal penalties for residents submitting to the others authority. Both states deployed militias on opposite sides of the Maumee River near Toledo, but besides mutual taunting, there was little interaction between the two forces. The single military confrontation of the war ended with a report of shots being fired into the air, incurring no casualties. The only blood spilled was the non-fatal stabbing of a law enforcement officer. During the summer of 1836, the United States Congress proposed a compromise whereby Michigan gave up its claim to the strip in exchange for its statehood and the remaining three-quarters of the Upper Peninsula. The northern regions mineral wealth later became an economic asset to Michigan, but at the time the compromise was considered a poor deal for the new state, and voters in a statehood convention in September soundly rejected it. But in December, facing a dire financial crisis and pressure from Congress and President Andrew Jackson, the Michigan government called another convention (called the Frostbitten Convention), which accepted the compromise, resolving the Toledo War. '"
   ]
  },
  {
   "cell_type": "code",
   "execution_count": 8,
   "id": "0da4e658-2ee4-46e0-874e-621796df9442",
   "metadata": {},
   "outputs": [],
   "source": [
    "order = 4\n",
    "model = gen_markov_model(source_text, order)\n",
    "start_gram = source_text[0:order:1]\n",
    "N = 1000"
   ]
  },
  {
   "cell_type": "code",
   "execution_count": 9,
   "id": "56d450c7-1796-459a-bbde-49ee72eb5afa",
   "metadata": {},
   "outputs": [],
   "source": [
    "random_text = generate_markov_text(start_gram, model, order, N)"
   ]
  },
  {
   "cell_type": "code",
   "execution_count": 168,
   "id": "d605bd40-71af-4480-85f5-6ee04d758eca",
   "metadata": {},
   "outputs": [
    {
     "name": "stdout",
     "output_type": "stream",
     "text": [
      "The only blood another sides capitulation opposite sident Andrew Jackson, the northers authority. Both sides passet to the summer of the only blood and to a head whereby Michigan–Ohio War (1835 and soundaries. Both claim jurisdictioned for statehood spilled and the Maumee River near Toledo Strip. Convention), which acceptember sides of shots being of Michigan over and the good spilled with a repress produce compromise was little inland the west were seen by both parties. The non-fatal states deployed military confrontation), which accepted States deployed militias on over and the disputed territory of the Maumee River a 468-square-mile (1,210 km2) regions of a law enforces. Both parties. Both states Congress and Michigan–Ohio and shipping of Michigan governor Robert Lucas and Michigan gover and the Upper Peninsula. The situation opport of the U.S. stabbing the northereby Michigan to the Michigans 24-year-old Boy Governor Robert Lucas a boundly rejected the mouth of a law enforcement of the was the remaining the others of Michigan petition between the two forcements submitting of the into the compromise, residered institute between by both sidents state an economic assed legislation between 1787 and Michigan petition attempting the sident called the was and sought to the time to a head whereby Michigan over near Toledo War or the Toledo, but at the air, include the gover what is now known as valuable economic assets. Poor geographical understanding the governor Stevens T. Mason helped interpretation along to both sidered a poor geographical understanding of Michigan War (1835–36), also known as the interaction (called the United the United it. But in exchange force the air, incurring of a laws led anothers in a statehood and the compromise, resolving no casualties it represented, and Presides capitulation (called within its claim to Michigan petitioned for statehood spilled was little inland to the other convention (called the Michigan gave up its submitting the good another sides of the compromise, resolving no casualties. The norther soundary dispute crisis and the Toledo Strip in Septed the west were seen the summer of a laws led the gover what is now known as the interactioned force the non-fatal state and the strip. Control of the mouth of the sides of the government officer. During of a laws led with a represented, and soundly rejected the Toledo Strip in exchange for the dispute crisis and federal legislations of the Maumee River and Michigan petition of a laws led the west were seen the Maumee River near Toledo, but at ther confliction opport officer. The situation opposite sidents of the Ohio and produce compromise, residents of 1835 and Michigan–Ohio War or the Maumee River what is now known as valuable economic assets. Poor geographical understanding territory with a repress produce compromise, resolving fired and Michigan petition in exchange for statehood in exchange for the Upper Peninsula. The other considents state an economic assed legislation (called within its submitting, thers authority. Both parties force the compromise where seen the situations mineral legislation in a states deployed militias on opport officer. During no casualties force the conflictioned forcements of thern region opposite sident Andrew Jackson, the good in a states Convention of a laws led the Michigan gave up its claim jurisdicting state and federal legislation overnor Robert Lucas and Michigan–Ohio and Presides of the compromise was a boundaries. Both statehood and the strip. Convention opposite single military dispute between the laws led a compromise was and Ohio and voters in 1835–36), also known as the time to both state, and Michigan to the United the laws led anothere seen by both state of Ohio and the Toledo War (1835 and Michigans 24-year-old Boy Governments submitting to both claim jurisdicting opposite situation between the Great Lakes helped into the time the time the non-fatal states deployed militias on opposite single military dispute crisis and voters authority. Both claim to the Upper Peninsula. The non-fatal states Control of shots boundly rejected State, and the west were was little inland Presides passets. Poor deal for its claim to Michigan governments statehood farmland the Great Lakes helped it. But in a state, and the Great Lakes helped it. But in September sought to a head whereby Michigan–Ohios Governor Robert Lucas and to both parties it reportunities as the remaining of the norther sides passets. Poor deal for statehood farmland Ohio and Ohio–Michigan petition (called anothers authority. Both parties as the gover near Toledo, but at the Michigan–Ohio–Michigan War. The strip. Convention along their border. The sides mutual taunting of the Toledo, but besides passets. Poor geographical understanding no casualties. Both parties as the Great Lakes helped presented, and shipping to Michigan, but at the Frostbitten Congress and varying interaction in a state of the disputed it. But in 1836, the two forces. Both statehood in September, facing fired institute between 1787 and 1805, and President officer. The northern region came the governments of Ohios Governor Stevens T. Mason helped proposed legislations mineral legislations of a law enforcement called was and Ohio War, was the other conflictions mineral wealth later became an economic assets. Poor geographical understanding no casualties it represented, and 1805, and the sidents stabbing of 1836, the Michigan petition between the law enforce the Upper Peninsula. The non-fatal statehood spilled the adjoining of Ohio and federal wealth later became the inland varying to both statehood interaction), which accepted the mouth of the was considents submitting fired and the Upper Peninsula. The strip. Control of Ohio War. The situation (called the west were was the Frostbitten Convention (called was the Toledo, but besides capitulation came an economic assed a compromise was the two for the Maumee River near Toledo Strip in exchange for resolving opposite sides passed a compromise war ended with a reportunities as the air, incurring fired a compromise, resides of the laws led with a reportunities forcement called the single militias on opposite situation between the disputed in September soundary dispute between by both sident called the remaining to a head whereby Michigan–Ohio and Michigan gave up its claim to include the was the into the sides capitulation along to the Michigan gave up its state, and voters in 1835 and voters authority. Both state and shipping stabbing fired a poor deal for state and federal wealth later became and 1805, and the remaining fired anothere seen the was consides capitulationed for resolving the only blood into the Frostbitten Control of the othere was little inland Michigans 24-year-old Boy Gover a 468-squarters authority. Both sident of the government officer. The non-fatal statehood farmland varying no casualties. The other soundary confrontation attempting, the adjoining a dire from Congress and to both state of the Michigan to both parties. Both sidered a compromise, resolving a dire financial crisis and produce conflicting interaction between the Toledo War, was confrontation, their border. During interaction overnment called the mouth of the new states deployed militias on over near Toledo Strip. Control of the new state of the dispute between 1787 and their border. The situation in 1835 and to the only blood convention, and the Michigan governor Robert Lucas a boundaries. The other sides of the gover what is now known as valuable economic assed legislation in 1836, their border. During state, and to Michigan, but besident of the only blood farmland 1805, and to include the compromise, resolving opposite single military dispute between the Toledo War or the Great Lakes helped produce compromise, resolving the Upper Peninsula. The Toledo War, was consides mutual taunting statehood in December sought to both parties it repressure from Congress produce compromise whereby Michigans 24-year-old Boy Governor Robert Lucas and to the west were was a boundaries. The strip. Control of a law enforces. The strip in December, facing no casualties. The othern regions of the laws led a compromise whereby Michigans 24-year-old Boy Government called the good farmland federal wealth later became and varying three-quarters in Septed the Maumee River what is now known as the west were seen by both sidents submitting the disputed the west were was little interpretation along the United State and federal wealth later became the interactioned for the Maumee River what is now known as the air, incurring fired a compromise was and sought to forcement officer. During opportunities as the time to Michigan War or the two for its boundary dispute crisis and the Great Lakes helped it. But in a state of a laws led a poor geographical understanding three-quare-mile (1,210 km2) regions mineral legislation came and their border. The sides passet to Michigan gave up its claim to forcements submitting the west were was the sident Andrew Jackson, and the only blood convention, and to the war ended was conflicting to a head where seen 1787 and varying states deployed military disputed the gover near Toledo, but at the two for its submitting a dire from Convention, the sidered in 1835–36), also known as the disputed States Congress and federal legislationed forcement Andrew Jackson, and soundaries. The non-fatal states Congressure from Convention attempting the Ohio and varying the remaining the other consides capitulation over and 1805, and voters authority. Both parties. Both parties forces. Both claim to the Maumee River and shipping interpretation between 1787 and the disputed State, and Presidents submitting states deployed military dispute criminal penalties as the adjoining of their border. The Toledo War (1835–36), also known as valuable economic assed a poor geographical understanding interpretation of the mouth of ther soundary convention), whic\n"
     ]
    }
   ],
   "source": [
    "print(random_text)"
   ]
  },
  {
   "cell_type": "code",
   "execution_count": null,
   "id": "6eff66cb-6097-41cf-b77c-4187c5555648",
   "metadata": {},
   "outputs": [],
   "source": []
  }
 ],
 "metadata": {
  "kernelspec": {
   "display_name": "Python 3 (ipykernel)",
   "language": "python",
   "name": "python3"
  },
  "language_info": {
   "codemirror_mode": {
    "name": "ipython",
    "version": 3
   },
   "file_extension": ".py",
   "mimetype": "text/x-python",
   "name": "python",
   "nbconvert_exporter": "python",
   "pygments_lexer": "ipython3",
   "version": "3.8.10"
  }
 },
 "nbformat": 4,
 "nbformat_minor": 5
}
