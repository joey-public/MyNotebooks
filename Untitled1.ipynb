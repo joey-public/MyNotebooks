{
 "cells": [
  {
   "cell_type": "markdown",
   "id": "a68436a8-1c65-4ce0-ab37-cbf6cf69b461",
   "metadata": {},
   "source": [
    "# A Mathematical Theory of Communications\n"
   ]
  },
  {
   "cell_type": "markdown",
   "id": "880d35af-3ac6-4ecc-9bc4-8f7e848d19e8",
   "metadata": {},
   "source": [
    "## Discrete Noiseless Channel\n",
    "\n",
    "The Capacity of a Noiseless Discrete channel is geven as:\n",
    "\n",
    "$$\n",
    "C = \\lim_{T\\to\\infty} \\frac{\\log N(T)}{T}\n",
    "$$\n",
    "\n",
    "Where:\n",
    "- $T$ is the total transmit time\n",
    "- $N(T)$ is the number of possible signals of duration T"
   ]
  },
  {
   "cell_type": "markdown",
   "id": "53d5378c-4135-4f08-a936-d925aebb121c",
   "metadata": {},
   "source": [
    "### Example: 5-bit symbol\n",
    "\n",
    "For example consider a transmitter that represents each symbol at a 5-bit number. Each symbol is transmitted with the same period $t_{sym}$. One symbol can represent $N(t_{sym})=2^5=32$ differnt unique symbols. In 2 symbol periods we can transmit $N(2\\times t_{sym})=2 \\times N(t_{sym})$\n",
    "\n",
    "As T tends towrs infinity we can solve for the channel capacity:\n",
    "$$\n",
    "\n",
    "$$"
   ]
  },
  {
   "cell_type": "code",
   "execution_count": 1,
   "id": "4a3dac9f-4b39-4a68-976f-68630caafccf",
   "metadata": {},
   "outputs": [
    {
     "data": {
      "text/plain": [
       "32"
      ]
     },
     "execution_count": 1,
     "metadata": {},
     "output_type": "execute_result"
    }
   ],
   "source": [
    "2**5"
   ]
  },
  {
   "cell_type": "code",
   "execution_count": null,
   "id": "157a949f-594b-4e9e-86e6-0fc1a3b80d91",
   "metadata": {},
   "outputs": [],
   "source": []
  }
 ],
 "metadata": {
  "kernelspec": {
   "display_name": "Python 3 (ipykernel)",
   "language": "python",
   "name": "python3"
  },
  "language_info": {
   "codemirror_mode": {
    "name": "ipython",
    "version": 3
   },
   "file_extension": ".py",
   "mimetype": "text/x-python",
   "name": "python",
   "nbconvert_exporter": "python",
   "pygments_lexer": "ipython3",
   "version": "3.8.10"
  }
 },
 "nbformat": 4,
 "nbformat_minor": 5
}
