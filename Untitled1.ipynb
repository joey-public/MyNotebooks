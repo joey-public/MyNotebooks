{
 "cells": [
  {
   "cell_type": "code",
   "execution_count": null,
   "id": "019d76d3-322c-4e50-8eb2-70d853e7b601",
   "metadata": {},
   "outputs": [],
   "source": [
    "def get_arxiv_pdf_url(url:str)->str:\n",
    "    "
   ]
  }
 ],
 "metadata": {
  "kernelspec": {
   "display_name": "Python 3 (ipykernel)",
   "language": "python",
   "name": "python3"
  },
  "language_info": {
   "codemirror_mode": {
    "name": "ipython",
    "version": 3
   },
   "file_extension": ".py",
   "mimetype": "text/x-python",
   "name": "python",
   "nbconvert_exporter": "python",
   "pygments_lexer": "ipython3",
   "version": "3.8.10"
  }
 },
 "nbformat": 4,
 "nbformat_minor": 5
}
