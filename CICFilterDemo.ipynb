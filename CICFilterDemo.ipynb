{
 "cells": [
  {
   "cell_type": "markdown",
   "id": "742da1d3-5704-4d20-a841-24b62917ab26",
   "metadata": {},
   "source": [
    "# CIC Filter Notes\n",
    "A Cascode Integrator Comb (CIC) filter is a special class of FIR filter often used for decimation, and interpolation tasks. The CIC filter is specially desined so that all its coefficients are 1 or 0, which greatly improves the computation time by removing the need for any multiplicaions int he DSP. \n",
    "\n",
    "I am interested in using this type of filter for decimation of a PDM signal form a MEMs Microphone. So I am focusing on decimation in this notebook."
   ]
  },
  {
   "cell_type": "markdown",
   "id": "62435b41-b57e-42d1-913c-299f75b300c0",
   "metadata": {
    "jp-MarkdownHeadingCollapsed": true
   },
   "source": [
    "## General Resources \n",
    "- https://en.wikipedia.org/wiki/Cascaded_integrator%E2%80%93comb_filter\n",
    "- http://dspguru.com/files/cic.pdf\n",
    "- https://wirelesspi.com/cascaded-integrator-comb-cic-filters-a-staircase-of-dsp/"
   ]
  },
  {
   "cell_type": "markdown",
   "id": "87ed7f6b-44ae-4fee-8291-f56baae20be0",
   "metadata": {},
   "source": [
    "## DSP Review\n",
    "Here I just have some some basic DSP review to help remind myself some of the core concepts required to understand the CIC filter. "
   ]
  },
  {
   "cell_type": "markdown",
   "id": "b6e1c880-ec19-4123-b0c1-00730352296e",
   "metadata": {},
   "source": [
    "### Discrete Time Signals vs Systems\n",
    "Remeber that in general a FIR filter (or any discrete filter) can be viewd at a high level a *system*. The system transforms some input *signal* to some new output *signal*. It is common to denote a discrete time system with the letter H:\n",
    "$$\n",
    "x[n] \\rightarrow \\boxed{H} \\rightarrow y[n]\n",
    "$$"
   ]
  },
  {
   "cell_type": "markdown",
   "id": "be268d4e-41dc-4fd6-ae17-5cc118e914dd",
   "metadata": {},
   "source": [
    "### Impulse Respone\n",
    "Any system can be fully described by it time domain impulse respone, $h[n]$, defined as the systems output to a unit impule input signal, $x[n]=\\delta[n]$"
   ]
  },
  {
   "cell_type": "markdown",
   "id": "015de056-9ff6-46fd-a7a9-6d4eb616b701",
   "metadata": {},
   "source": [
    "### Z-transform\n",
    "To analyze the CIC filter first remember the formula for the Z-Transfom of the *signal* x:\n",
    "$$\n",
    "\\mathbb{Z(x[n])} = X(z) = \\sum_{n=-\\infty}^{\\infty} x[n] z^{-n}\n",
    "$$\n",
    "\n",
    "#### Time Shifting Property of Z-Transfrom\n",
    "$$\n",
    "\\mathbb{Z}(x[n-k]) = z^{-k}X(z)\n",
    "$$"
   ]
  },
  {
   "cell_type": "markdown",
   "id": "34062ca8-bc61-443c-a352-490747c35b8b",
   "metadata": {},
   "source": [
    "## CIC Filter Thoery\n",
    "The basic approach to a decemation CIC filter is 3 steps\n",
    "1. Integrate\n",
    "2. Downsample\n",
    "1. Comb Filter\n",
    "\n",
    "$$\n",
    "x[n] \\rightarrow \\fbox{I} \\rightarrow \\fbox{\\downarrow} \\rightarrow \\fbox{C} \\rightarrow[n]\n",
    "$$\n",
    "\n",
    "The CIC interpolator follows a similar, but reveresed structure:\n",
    "1. Comb Filter\n",
    "2. Upsample\n",
    "3. Integrate\n",
    "\n",
    "$$\n",
    "x[n] \\rightarrow \\fbox{C} \\rightarrow \\fbox{\\uparrow} \\rightarrow \\fbox{I} \\rightarrow[n]\n",
    "$$\n",
    "\n"
   ]
  },
  {
   "cell_type": "markdown",
   "id": "787f27b4-5931-4096-9822-a065c1a539e8",
   "metadata": {},
   "source": [
    "### Integrator: A simple IIR Filter\n",
    "\n",
    "#### Basic Equation\n",
    "A digital integrator is defined by the following equation:\n",
    "$$\n",
    "y[n] = y[n-1] + x[n]\n",
    "$$\n",
    "*Note this is an IIR system becasue the output $y[n]$ depends on past outputs $y[n-1]$.*\n",
    "\n",
    "Lets look at what this equation is actually saying, by seeing what happens as more and more samples are collected. \n",
    "\n",
    "Assume we are sampling some analog signal and that is our input $x[n]$\n",
    "\n",
    "| $n$ | $y[n]$ | $h[n]$ assume ($y[-1]=0$) |\n",
    "| :-- | :-- | :-- |\n",
    "| $n=0$ | $y[0] = y[-1] + x[0]$ | $h[0] = 1$ |\n",
    "| $n=1$ | $y[1] = y[0] + x[1] = y[-1] + x[0] + x[1]$ | $h[1] = 1 + 0$ |\n",
    "| $n=2$ | $y[2] = y[1] + x[2] = y[-1] + x[0] + x[1] + x[2]$ | $h[2] = 1+ 0 + 0$ |\n",
    "| $n=3$ | $y[3] = y[2] + x[3] = y[-1] + x[0] + x[1] + x[2] + x[3]$ | $h[3] = 1 + 0 + 0 + 0$ |\n",
    "| $n=k$ | $y[k] = y[k-1] + x[k] = y[-1] + x[0] + x[1] + ... x[k-1] + x[k]$ | $h[k] = u[n]$ |\n",
    "\n",
    "Looking at it like this the pattern becomes clear. The integrater is simply a ruinning sum of each sample of the input signal. So when we implement this in code we simply want to add each new sample to some variable that holds the total sum. If dont really know what $y[-1]$, it will present itself as some offset, but going forward I will assume $y[-1]=0$\n",
    "\n",
    "For this reason the Integrator is often reffered to as an *accumulator*.\n",
    "\n",
    "#### Transfer Funtion\n",
    "We can find the transfer function of the Integrator as follows:\n",
    "\n",
    "First take the Z-transform of our system:\n",
    "$$\n",
    "Y(z) = \\mathbb{Z}(y[n-1]) + X(z)\n",
    "$$\n",
    "We can use the time-shifing property of the Z-transform to get the follwing\n",
    "$$\n",
    "Y(z) = z^{-1}Y(z) + X(z)\n",
    "$$\n",
    "Now we can easily solve for the transfer function $H(z)$\n",
    "$$\n",
    "Y(Z) \\left[1 - z^{-1}\\right] = X(x)\n",
    "$$\n",
    "$$\n",
    "\\boxed{H(z) = \\frac{Y(z)}{X(z)} = \\frac{1}{1 - z^{-1}}}\n",
    "$$\n",
    "\n",
    "This system has no zeros becasue there is no value of $z$ that make $H(z) = 0$\n",
    "\n",
    "We can quickly solve for the systems poles by finding where $|H(z)| = \\infty$ (aka the demoninator is 0)\n",
    "$$\n",
    "0 = 1-\\frac{1}{z}\n",
    "$$\n",
    "$$\n",
    "1 = \\frac{1}{z}\n",
    "$$\n",
    "$$\n",
    "z=1\n",
    "$$\n",
    "So we can see the system had a single pole at $z=1$"
   ]
  },
  {
   "cell_type": "markdown",
   "id": "b8a7f63c-1c8a-449e-8678-0664d51b28aa",
   "metadata": {},
   "source": [
    "### Comb Filter: A simple FIR Filter\n",
    "The Comb filter after downsampling can be shon to hae the following system equation:\n",
    "$$\n",
    "y[n] = x[n] - x[n-M]\n",
    "$$\n",
    "Which corresponds to:\n",
    "$$\n",
    "Y(z) = X(z) - z^{-M}X(z)\n",
    "$$\n",
    "and \n",
    "$$\n",
    "\\boxed{H(z) = 1-z^{-M}}\n",
    "$$\n",
    "\n",
    "This Filter has no poles and 1 zero at $z=1$"
   ]
  },
  {
   "cell_type": "markdown",
   "id": "a62ee2e8-62d0-4634-b298-7e493bb4a1f2",
   "metadata": {
    "jp-MarkdownHeadingCollapsed": true
   },
   "source": [
    "### Putting it all together \n",
    "\n",
    "The CIC filter passed the input through $N$ integrateor stages, then through a downsampler with rate of $R$, and finally through $N$ Comb stages\n",
    "\n",
    "We saw that:\n",
    "$$\n",
    "H_I(z) = \\frac{1}{1-z^-1}\n",
    "$$\n",
    "and \n",
    "$$\n",
    "H_C(z) = 1-z^{-RM}\n",
    "$$\n",
    "\n",
    "In LTI systems we know that convolution = multiplication so for $N$ integrators we get:\n",
    "$$\n",
    "H_1(z) = H_I^N(z) = \\frac{1}{(1-z^-1)^N}\n",
    "$$\n",
    "and for $N$ Comb filters we have:\n",
    "$$\n",
    "H_2(z) = H_C^N(z) = (1-z^{-RM})^N\n",
    "$$\n",
    "\n",
    "Cobmining everython gives:\n",
    "$$\n",
    "H(z) = H_1(z) \\times H_2(z) = \\frac\n",
    "    {\\left( 1-z^{-RM} \\right)^N}\n",
    "    {\\left( 1-z^{-1} \\right)^N}\n",
    "$$\n",
    "This can be shown to simplify down to:\n",
    "$$\n",
    "H(z) = \\left( \\sum_{k=0}^{RM-1}z^{-k}\\right)^N\n",
    "$$"
   ]
  },
  {
   "cell_type": "markdown",
   "id": "579c9a20-792a-4a83-bfbc-6fb0305f52d3",
   "metadata": {},
   "source": [
    "# Simulation"
   ]
  },
  {
   "cell_type": "code",
   "execution_count": 1,
   "id": "8825df05-745a-47f6-90fe-6c4c1dec7a62",
   "metadata": {},
   "outputs": [],
   "source": [
    "import numpy as np\n",
    "import matplotlib.pyplot as plt"
   ]
  },
  {
   "cell_type": "code",
   "execution_count": 2,
   "id": "a97ae431-c2ee-4631-b8f4-1e9411976637",
   "metadata": {},
   "outputs": [],
   "source": [
    "Ntaps = 15\n",
    "hn = np.ones(15)"
   ]
  },
  {
   "cell_type": "code",
   "execution_count": 19,
   "id": "7c8d8a48-0043-4833-9cfc-5e63887f902e",
   "metadata": {},
   "outputs": [],
   "source": [
    "def integrate(x:np.ndarray)->np.ndarray:\n",
    "    h = np.ones(np.size(x))\n",
    "    y = np.convolve(h, x, 'same')\n",
    "    return y\n",
    "def downsample(x:np.ndarray, R:int)->np.ndarray:\n",
    "    y = x[0::R]\n",
    "    return y\n",
    "def comb():\n",
    "    h = np.zeros(np."
   ]
  },
  {
   "cell_type": "code",
   "execution_count": 20,
   "id": "3633e184-d367-45e0-bcdb-e19a5d410872",
   "metadata": {},
   "outputs": [
    {
     "name": "stdout",
     "output_type": "stream",
     "text": [
      "[1. 3. 6. 6.]\n"
     ]
    }
   ],
   "source": []
  },
  {
   "cell_type": "code",
   "execution_count": null,
   "id": "5f58edae-5319-4a51-9a65-592c8ec3bb92",
   "metadata": {},
   "outputs": [],
   "source": []
  },
  {
   "cell_type": "code",
   "execution_count": null,
   "id": "fbe77d53-e14c-4d10-844c-f49feb45b43a",
   "metadata": {},
   "outputs": [],
   "source": []
  }
 ],
 "metadata": {
  "kernelspec": {
   "display_name": "Python 3 (ipykernel)",
   "language": "python",
   "name": "python3"
  },
  "language_info": {
   "codemirror_mode": {
    "name": "ipython",
    "version": 3
   },
   "file_extension": ".py",
   "mimetype": "text/x-python",
   "name": "python",
   "nbconvert_exporter": "python",
   "pygments_lexer": "ipython3",
   "version": "3.8.10"
  }
 },
 "nbformat": 4,
 "nbformat_minor": 5
}
